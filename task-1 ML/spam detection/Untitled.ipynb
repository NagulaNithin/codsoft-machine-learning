{
 "cells": [
  {
   "cell_type": "code",
   "execution_count": 16,
   "id": "1a53e760-ea77-4526-be82-7d10a3d60e83",
   "metadata": {},
   "outputs": [
    {
     "name": "stdout",
     "output_type": "stream",
     "text": [
      "Best parameters: {'C': 1, 'class_weight': {0: np.float64(0.5782918149466192), 1: np.float64(3.6931818181818183)}}\n",
      "Accuracy: 0.97\n",
      "Classification Report:\n",
      "               precision    recall  f1-score   support\n",
      "\n",
      "  Legitimate       0.98      0.99      0.98      1453\n",
      "        Spam       0.94      0.84      0.89       219\n",
      "\n",
      "    accuracy                           0.97      1672\n",
      "   macro avg       0.96      0.92      0.94      1672\n",
      "weighted avg       0.97      0.97      0.97      1672\n",
      "\n"
     ]
    },
    {
     "data": {
      "image/png": "[encoded data removed]",
      "text/plain": [
       "<Figure size 800x500 with 1 Axes>"
      ]
     },
     "metadata": {},
     "output_type": "display_data"
    },
    {
     "name": "stdout",
     "output_type": "stream",
     "text": [
      "Message:  Congratulations! You've won a $1000 Walmart gift card.\n",
      "Classification:  Spam\n"
     ]
    }
   ],
   "source": [
    "import pandas as pd\n",
    "from sklearn.feature_extraction.text import TfidfVectorizer\n",
    "from sklearn.model_selection import train_test_split, GridSearchCV\n",
    "from sklearn.svm import SVC\n",
    "from sklearn.metrics import accuracy_score, classification_report\n",
    "import matplotlib.pyplot as plt\n",
    "from sklearn.utils.class_weight import compute_class_weight\n",
    "import re\n",
    "import joblib\n",
    "import numpy as np  # Make sure numpy is imported\n",
    "\n",
    "# Load the dataset\n",
    "data = pd.read_csv('spam.csv', encoding='latin-1')\n",
    "data = data[['v1', 'v2']]  # Keep only the relevant columns\n",
    "data.columns = ['label', 'message']  # Rename columns for clarity\n",
    "data['label'] = data['label'].map({'ham': 0, 'spam': 1})  # Encode labels\n",
    "\n",
    "# Preprocess the text\n",
    "def preprocess_text(text):\n",
    "    # Remove non-alphabetic characters and lowercase the text\n",
    "    text = re.sub(r'[^a-zA-Z\\s]', '', text)\n",
    "    text = text.lower()\n",
    "    return text\n",
    "\n",
    "data['message'] = data['message'].apply(preprocess_text)\n",
    "\n",
    "# Split dataset into training and testing sets\n",
    "X_train, X_test, y_train, y_test = train_test_split(\n",
    "    data['message'], data['label'], test_size=0.3, random_state=42\n",
    ")\n",
    "\n",
    "# Vectorize the text data using TF-IDF with bigrams and more features\n",
    "tfidf = TfidfVectorizer(stop_words='english', max_features=500, ngram_range=(1, 1))\n",
    "X_train_tfidf = tfidf.fit_transform(X_train)\n",
    "X_test_tfidf = tfidf.transform(X_test)\n",
    "\n",
    "# Compute class weights to handle class imbalance\n",
    "class_weights = compute_class_weight('balanced', classes=np.array([0, 1]), y=y_train)\n",
    "class_weight_dict = {0: class_weights[0], 1: class_weights[1]}\n",
    "\n",
    "# Grid search for hyperparameter tuning\n",
    "param_grid = {\n",
    "    'C': [1],\n",
    "    \n",
    "    'class_weight': [class_weight_dict]\n",
    "}\n",
    "\n",
    "grid_search = GridSearchCV(SVC(class_weight=class_weight_dict), param_grid, cv=5)\n",
    "grid_search.fit(X_train_tfidf, y_train)\n",
    "\n",
    "print(\"Best parameters:\", grid_search.best_params_)\n",
    "\n",
    "# Train the model with the best parameters from Grid Search\n",
    "best_model = grid_search.best_estimator_\n",
    "\n",
    "# Predict on the test set\n",
    "y_pred = best_model.predict(X_test_tfidf)\n",
    "\n",
    "# Evaluate the model\n",
    "accuracy = accuracy_score(y_test, y_pred)\n",
    "report = classification_report(y_test, y_pred, target_names=['Legitimate', 'Spam'])\n",
    "\n",
    "print(f\"Accuracy: {accuracy:.2f}\")\n",
    "print(\"Classification Report:\\n\", report)\n",
    "\n",
    "# Save the model and vectorizer for later use\n",
    "joblib.dump(best_model, 'spam_classifier_svm_model.pkl')\n",
    "joblib.dump(tfidf, 'tfidf_vectorizer.pkl')\n",
    "\n",
    "# Plot the accuracy\n",
    "accuracies = [accuracy]  # Example: Storing the current accuracy\n",
    "plt.figure(figsize=(8, 5))\n",
    "plt.bar(['Model Accuracy'], accuracies, color='skyblue')\n",
    "plt.ylim(0, 1)\n",
    "plt.title('Model Accuracy')\n",
    "plt.ylabel('Accuracy')\n",
    "plt.show()\n",
    "\n",
    "# Usage Example\n",
    "def classify_sms(message):\n",
    "    # Preprocess and vectorize the input message\n",
    "    message = preprocess_text(message)\n",
    "    vectorized_message = tfidf.transform([message])\n",
    "    prediction = best_model.predict(vectorized_message)\n",
    "    return 'Spam' if prediction[0] == 1 else 'Legitimate'\n",
    "\n",
    "# Test the function\n",
    "example_message = \"Congratulations! You've won a $1000 Walmart gift card.\"\n",
    "print(\"Message: \", example_message)\n",
    "print(\"Classification: \", classify_sms(example_message))\n"
   ]
  },
  {
   "cell_type": "code",
   "execution_count": null,
   "id": "43edca32-b26b-4625-9988-cbc73d834a26",
   "metadata": {},
   "outputs": [],
   "source": []
  },
  {
   "cell_type": "code",
   "execution_count": null,
   "id": "c82452db-2b9b-4fb9-a771-2cd6e0b0faeb",
   "metadata": {},
   "outputs": [],
   "source": []
  }
 ],
 "metadata": {
  "kernelspec": {
   "display_name": "Python 3 (ipykernel)",
   "language": "python",
   "name": "python3"
  },
  "language_info": {
   "codemirror_mode": {
    "name": "ipython",
    "version": 3
   },
   "file_extension": ".py",
   "mimetype": "text/x-python",
   "name": "python",
   "nbconvert_exporter": "python",
   "pygments_lexer": "ipython3",
   "version": "3.12.3"
  }
 },
 "nbformat": 4,
 "nbformat_minor": 5
}
